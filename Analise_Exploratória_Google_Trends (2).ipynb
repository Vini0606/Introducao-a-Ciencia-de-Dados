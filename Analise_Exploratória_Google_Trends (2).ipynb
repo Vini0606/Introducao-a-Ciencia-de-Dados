{
  "cells": [
    {
      "cell_type": "markdown",
      "id": "9f60be7e",
      "metadata": {
        "id": "9f60be7e"
      },
      "source": [
        "# Análise Exploratória utilizando dados do Google Trends"
      ]
    },
    {
      "cell_type": "markdown",
      "id": "a7c68727",
      "metadata": {
        "id": "a7c68727"
      },
      "source": [
        "*Este é um conjunto de dados com curadoria do Google Trends ao longo dos anos.\n",
        "Todos os anos, o Google lança as consultas de pesquisa de tendências em todo o mundo em várias categorias, neste dataset, temos tendências de 2001 a 2020.*"
      ]
    },
    {
      "cell_type": "code",
      "execution_count": 2,
      "id": "0cbdf305",
      "metadata": {
        "id": "0cbdf305"
      },
      "outputs": [],
      "source": [
        "import pandas as pd\n",
        "import matplotlib.pyplot as plt\n",
        "%matplotlib inline"
      ]
    },
    {
      "cell_type": "code",
      "source": [
        "from google.colab import drive\n",
        "drive.mount('/content/drive')"
      ],
      "metadata": {
        "id": "M0rw1woiiC3P",
        "colab": {
          "base_uri": "https://localhost:8080/"
        },
        "outputId": "b2e44157-002f-40fd-f5e5-8670dc3350a0"
      },
      "id": "M0rw1woiiC3P",
      "execution_count": 3,
      "outputs": [
        {
          "output_type": "stream",
          "name": "stdout",
          "text": [
            "Mounted at /content/drive\n"
          ]
        }
      ]
    },
    {
      "cell_type": "code",
      "execution_count": 4,
      "id": "7a5d2fd1",
      "metadata": {
        "id": "7a5d2fd1"
      },
      "outputs": [],
      "source": [
        "df = pd.read_csv('/content/drive/MyDrive/Google trends - trends.csv')"
      ]
    },
    {
      "cell_type": "code",
      "execution_count": 5,
      "id": "1c6b1a21",
      "metadata": {
        "id": "1c6b1a21",
        "outputId": "d437134a-fe79-460a-dfa6-e5b88ac85082",
        "colab": {
          "base_uri": "https://localhost:8080/",
          "height": 206
        }
      },
      "outputs": [
        {
          "output_type": "execute_result",
          "data": {
            "text/plain": [
              "  location  year         category  rank  query\n",
              "0   Global  2001  Consumer Brands     1  Nokia\n",
              "1   Global  2001  Consumer Brands     2   Sony\n",
              "2   Global  2001  Consumer Brands     3    BMW\n",
              "3   Global  2001  Consumer Brands     4   Palm\n",
              "4   Global  2001  Consumer Brands     5  Adobe"
            ],
            "text/html": [
              "\n",
              "  <div id=\"df-b8141fd0-3742-4105-a008-6579712e5ed6\" class=\"colab-df-container\">\n",
              "    <div>\n",
              "<style scoped>\n",
              "    .dataframe tbody tr th:only-of-type {\n",
              "        vertical-align: middle;\n",
              "    }\n",
              "\n",
              "    .dataframe tbody tr th {\n",
              "        vertical-align: top;\n",
              "    }\n",
              "\n",
              "    .dataframe thead th {\n",
              "        text-align: right;\n",
              "    }\n",
              "</style>\n",
              "<table border=\"1\" class=\"dataframe\">\n",
              "  <thead>\n",
              "    <tr style=\"text-align: right;\">\n",
              "      <th></th>\n",
              "      <th>location</th>\n",
              "      <th>year</th>\n",
              "      <th>category</th>\n",
              "      <th>rank</th>\n",
              "      <th>query</th>\n",
              "    </tr>\n",
              "  </thead>\n",
              "  <tbody>\n",
              "    <tr>\n",
              "      <th>0</th>\n",
              "      <td>Global</td>\n",
              "      <td>2001</td>\n",
              "      <td>Consumer Brands</td>\n",
              "      <td>1</td>\n",
              "      <td>Nokia</td>\n",
              "    </tr>\n",
              "    <tr>\n",
              "      <th>1</th>\n",
              "      <td>Global</td>\n",
              "      <td>2001</td>\n",
              "      <td>Consumer Brands</td>\n",
              "      <td>2</td>\n",
              "      <td>Sony</td>\n",
              "    </tr>\n",
              "    <tr>\n",
              "      <th>2</th>\n",
              "      <td>Global</td>\n",
              "      <td>2001</td>\n",
              "      <td>Consumer Brands</td>\n",
              "      <td>3</td>\n",
              "      <td>BMW</td>\n",
              "    </tr>\n",
              "    <tr>\n",
              "      <th>3</th>\n",
              "      <td>Global</td>\n",
              "      <td>2001</td>\n",
              "      <td>Consumer Brands</td>\n",
              "      <td>4</td>\n",
              "      <td>Palm</td>\n",
              "    </tr>\n",
              "    <tr>\n",
              "      <th>4</th>\n",
              "      <td>Global</td>\n",
              "      <td>2001</td>\n",
              "      <td>Consumer Brands</td>\n",
              "      <td>5</td>\n",
              "      <td>Adobe</td>\n",
              "    </tr>\n",
              "  </tbody>\n",
              "</table>\n",
              "</div>\n",
              "    <div class=\"colab-df-buttons\">\n",
              "\n",
              "  <div class=\"colab-df-container\">\n",
              "    <button class=\"colab-df-convert\" onclick=\"convertToInteractive('df-b8141fd0-3742-4105-a008-6579712e5ed6')\"\n",
              "            title=\"Convert this dataframe to an interactive table.\"\n",
              "            style=\"display:none;\">\n",
              "\n",
              "  <svg xmlns=\"http://www.w3.org/2000/svg\" height=\"24px\" viewBox=\"0 -960 960 960\">\n",
              "    <path d=\"M120-120v-720h720v720H120Zm60-500h600v-160H180v160Zm220 220h160v-160H400v160Zm0 220h160v-160H400v160ZM180-400h160v-160H180v160Zm440 0h160v-160H620v160ZM180-180h160v-160H180v160Zm440 0h160v-160H620v160Z\"/>\n",
              "  </svg>\n",
              "    </button>\n",
              "\n",
              "  <style>\n",
              "    .colab-df-container {\n",
              "      display:flex;\n",
              "      gap: 12px;\n",
              "    }\n",
              "\n",
              "    .colab-df-convert {\n",
              "      background-color: #E8F0FE;\n",
              "      border: none;\n",
              "      border-radius: 50%;\n",
              "      cursor: pointer;\n",
              "      display: none;\n",
              "      fill: #1967D2;\n",
              "      height: 32px;\n",
              "      padding: 0 0 0 0;\n",
              "      width: 32px;\n",
              "    }\n",
              "\n",
              "    .colab-df-convert:hover {\n",
              "      background-color: #E2EBFA;\n",
              "      box-shadow: 0px 1px 2px rgba(60, 64, 67, 0.3), 0px 1px 3px 1px rgba(60, 64, 67, 0.15);\n",
              "      fill: #174EA6;\n",
              "    }\n",
              "\n",
              "    .colab-df-buttons div {\n",
              "      margin-bottom: 4px;\n",
              "    }\n",
              "\n",
              "    [theme=dark] .colab-df-convert {\n",
              "      background-color: #3B4455;\n",
              "      fill: #D2E3FC;\n",
              "    }\n",
              "\n",
              "    [theme=dark] .colab-df-convert:hover {\n",
              "      background-color: #434B5C;\n",
              "      box-shadow: 0px 1px 3px 1px rgba(0, 0, 0, 0.15);\n",
              "      filter: drop-shadow(0px 1px 2px rgba(0, 0, 0, 0.3));\n",
              "      fill: #FFFFFF;\n",
              "    }\n",
              "  </style>\n",
              "\n",
              "    <script>\n",
              "      const buttonEl =\n",
              "        document.querySelector('#df-b8141fd0-3742-4105-a008-6579712e5ed6 button.colab-df-convert');\n",
              "      buttonEl.style.display =\n",
              "        google.colab.kernel.accessAllowed ? 'block' : 'none';\n",
              "\n",
              "      async function convertToInteractive(key) {\n",
              "        const element = document.querySelector('#df-b8141fd0-3742-4105-a008-6579712e5ed6');\n",
              "        const dataTable =\n",
              "          await google.colab.kernel.invokeFunction('convertToInteractive',\n",
              "                                                    [key], {});\n",
              "        if (!dataTable) return;\n",
              "\n",
              "        const docLinkHtml = 'Like what you see? Visit the ' +\n",
              "          '<a target=\"_blank\" href=https://colab.research.google.com/notebooks/data_table.ipynb>data table notebook</a>'\n",
              "          + ' to learn more about interactive tables.';\n",
              "        element.innerHTML = '';\n",
              "        dataTable['output_type'] = 'display_data';\n",
              "        await google.colab.output.renderOutput(dataTable, element);\n",
              "        const docLink = document.createElement('div');\n",
              "        docLink.innerHTML = docLinkHtml;\n",
              "        element.appendChild(docLink);\n",
              "      }\n",
              "    </script>\n",
              "  </div>\n",
              "\n",
              "\n",
              "<div id=\"df-dd7c2819-a8f0-41de-b881-5b8883182602\">\n",
              "  <button class=\"colab-df-quickchart\" onclick=\"quickchart('df-dd7c2819-a8f0-41de-b881-5b8883182602')\"\n",
              "            title=\"Suggest charts.\"\n",
              "            style=\"display:none;\">\n",
              "\n",
              "<svg xmlns=\"http://www.w3.org/2000/svg\" height=\"24px\"viewBox=\"0 0 24 24\"\n",
              "     width=\"24px\">\n",
              "    <g>\n",
              "        <path d=\"M19 3H5c-1.1 0-2 .9-2 2v14c0 1.1.9 2 2 2h14c1.1 0 2-.9 2-2V5c0-1.1-.9-2-2-2zM9 17H7v-7h2v7zm4 0h-2V7h2v10zm4 0h-2v-4h2v4z\"/>\n",
              "    </g>\n",
              "</svg>\n",
              "  </button>\n",
              "\n",
              "<style>\n",
              "  .colab-df-quickchart {\n",
              "      --bg-color: #E8F0FE;\n",
              "      --fill-color: #1967D2;\n",
              "      --hover-bg-color: #E2EBFA;\n",
              "      --hover-fill-color: #174EA6;\n",
              "      --disabled-fill-color: #AAA;\n",
              "      --disabled-bg-color: #DDD;\n",
              "  }\n",
              "\n",
              "  [theme=dark] .colab-df-quickchart {\n",
              "      --bg-color: #3B4455;\n",
              "      --fill-color: #D2E3FC;\n",
              "      --hover-bg-color: #434B5C;\n",
              "      --hover-fill-color: #FFFFFF;\n",
              "      --disabled-bg-color: #3B4455;\n",
              "      --disabled-fill-color: #666;\n",
              "  }\n",
              "\n",
              "  .colab-df-quickchart {\n",
              "    background-color: var(--bg-color);\n",
              "    border: none;\n",
              "    border-radius: 50%;\n",
              "    cursor: pointer;\n",
              "    display: none;\n",
              "    fill: var(--fill-color);\n",
              "    height: 32px;\n",
              "    padding: 0;\n",
              "    width: 32px;\n",
              "  }\n",
              "\n",
              "  .colab-df-quickchart:hover {\n",
              "    background-color: var(--hover-bg-color);\n",
              "    box-shadow: 0 1px 2px rgba(60, 64, 67, 0.3), 0 1px 3px 1px rgba(60, 64, 67, 0.15);\n",
              "    fill: var(--button-hover-fill-color);\n",
              "  }\n",
              "\n",
              "  .colab-df-quickchart-complete:disabled,\n",
              "  .colab-df-quickchart-complete:disabled:hover {\n",
              "    background-color: var(--disabled-bg-color);\n",
              "    fill: var(--disabled-fill-color);\n",
              "    box-shadow: none;\n",
              "  }\n",
              "\n",
              "  .colab-df-spinner {\n",
              "    border: 2px solid var(--fill-color);\n",
              "    border-color: transparent;\n",
              "    border-bottom-color: var(--fill-color);\n",
              "    animation:\n",
              "      spin 1s steps(1) infinite;\n",
              "  }\n",
              "\n",
              "  @keyframes spin {\n",
              "    0% {\n",
              "      border-color: transparent;\n",
              "      border-bottom-color: var(--fill-color);\n",
              "      border-left-color: var(--fill-color);\n",
              "    }\n",
              "    20% {\n",
              "      border-color: transparent;\n",
              "      border-left-color: var(--fill-color);\n",
              "      border-top-color: var(--fill-color);\n",
              "    }\n",
              "    30% {\n",
              "      border-color: transparent;\n",
              "      border-left-color: var(--fill-color);\n",
              "      border-top-color: var(--fill-color);\n",
              "      border-right-color: var(--fill-color);\n",
              "    }\n",
              "    40% {\n",
              "      border-color: transparent;\n",
              "      border-right-color: var(--fill-color);\n",
              "      border-top-color: var(--fill-color);\n",
              "    }\n",
              "    60% {\n",
              "      border-color: transparent;\n",
              "      border-right-color: var(--fill-color);\n",
              "    }\n",
              "    80% {\n",
              "      border-color: transparent;\n",
              "      border-right-color: var(--fill-color);\n",
              "      border-bottom-color: var(--fill-color);\n",
              "    }\n",
              "    90% {\n",
              "      border-color: transparent;\n",
              "      border-bottom-color: var(--fill-color);\n",
              "    }\n",
              "  }\n",
              "</style>\n",
              "\n",
              "  <script>\n",
              "    async function quickchart(key) {\n",
              "      const quickchartButtonEl =\n",
              "        document.querySelector('#' + key + ' button');\n",
              "      quickchartButtonEl.disabled = true;  // To prevent multiple clicks.\n",
              "      quickchartButtonEl.classList.add('colab-df-spinner');\n",
              "      try {\n",
              "        const charts = await google.colab.kernel.invokeFunction(\n",
              "            'suggestCharts', [key], {});\n",
              "      } catch (error) {\n",
              "        console.error('Error during call to suggestCharts:', error);\n",
              "      }\n",
              "      quickchartButtonEl.classList.remove('colab-df-spinner');\n",
              "      quickchartButtonEl.classList.add('colab-df-quickchart-complete');\n",
              "    }\n",
              "    (() => {\n",
              "      let quickchartButtonEl =\n",
              "        document.querySelector('#df-dd7c2819-a8f0-41de-b881-5b8883182602 button');\n",
              "      quickchartButtonEl.style.display =\n",
              "        google.colab.kernel.accessAllowed ? 'block' : 'none';\n",
              "    })();\n",
              "  </script>\n",
              "</div>\n",
              "    </div>\n",
              "  </div>\n"
            ]
          },
          "metadata": {},
          "execution_count": 5
        }
      ],
      "source": [
        "df.head()"
      ]
    },
    {
      "cell_type": "code",
      "execution_count": 6,
      "id": "6dfc3f06",
      "metadata": {
        "id": "6dfc3f06",
        "outputId": "e97144ae-258b-444a-818b-a87d74db5998",
        "colab": {
          "base_uri": "https://localhost:8080/"
        }
      },
      "outputs": [
        {
          "output_type": "execute_result",
          "data": {
            "text/plain": [
              "(26955, 5)"
            ]
          },
          "metadata": {},
          "execution_count": 6
        }
      ],
      "source": [
        "df.shape"
      ]
    },
    {
      "cell_type": "code",
      "source": [
        "df.dtypes"
      ],
      "metadata": {
        "colab": {
          "base_uri": "https://localhost:8080/"
        },
        "id": "OJpvlUmlkLIL",
        "outputId": "36eeacbe-c95e-4f64-df0e-554d47a55f03"
      },
      "id": "OJpvlUmlkLIL",
      "execution_count": 23,
      "outputs": [
        {
          "output_type": "execute_result",
          "data": {
            "text/plain": [
              "location    object\n",
              "year         int64\n",
              "category    object\n",
              "rank         int64\n",
              "query       object\n",
              "dtype: object"
            ]
          },
          "metadata": {},
          "execution_count": 23
        }
      ]
    },
    {
      "cell_type": "code",
      "execution_count": 17,
      "id": "c6b1dc9c",
      "metadata": {
        "id": "c6b1dc9c"
      },
      "outputs": [],
      "source": [
        "for column in df.columns:\n",
        "  if df[column].dtype == object:\n",
        "    df[column] = df[column].astype(str)"
      ]
    },
    {
      "cell_type": "code",
      "execution_count": null,
      "id": "b8031249",
      "metadata": {
        "id": "b8031249",
        "outputId": "1426df80-344c-412f-f09a-b503ec5c849e"
      },
      "outputs": [
        {
          "data": {
            "text/html": [
              "<div>\n",
              "<style scoped>\n",
              "    .dataframe tbody tr th:only-of-type {\n",
              "        vertical-align: middle;\n",
              "    }\n",
              "\n",
              "    .dataframe tbody tr th {\n",
              "        vertical-align: top;\n",
              "    }\n",
              "\n",
              "    .dataframe thead th {\n",
              "        text-align: right;\n",
              "    }\n",
              "</style>\n",
              "<table border=\"1\" class=\"dataframe\">\n",
              "  <thead>\n",
              "    <tr style=\"text-align: right;\">\n",
              "      <th></th>\n",
              "      <th>year</th>\n",
              "      <th>rank</th>\n",
              "    </tr>\n",
              "  </thead>\n",
              "  <tbody>\n",
              "    <tr>\n",
              "      <th>count</th>\n",
              "      <td>26955.000000</td>\n",
              "      <td>26955.00000</td>\n",
              "    </tr>\n",
              "    <tr>\n",
              "      <th>mean</th>\n",
              "      <td>2015.243369</td>\n",
              "      <td>3.00000</td>\n",
              "    </tr>\n",
              "    <tr>\n",
              "      <th>std</th>\n",
              "      <td>3.564683</td>\n",
              "      <td>1.41424</td>\n",
              "    </tr>\n",
              "    <tr>\n",
              "      <th>min</th>\n",
              "      <td>2001.000000</td>\n",
              "      <td>1.00000</td>\n",
              "    </tr>\n",
              "    <tr>\n",
              "      <th>25%</th>\n",
              "      <td>2013.000000</td>\n",
              "      <td>2.00000</td>\n",
              "    </tr>\n",
              "    <tr>\n",
              "      <th>50%</th>\n",
              "      <td>2016.000000</td>\n",
              "      <td>3.00000</td>\n",
              "    </tr>\n",
              "    <tr>\n",
              "      <th>75%</th>\n",
              "      <td>2018.000000</td>\n",
              "      <td>4.00000</td>\n",
              "    </tr>\n",
              "    <tr>\n",
              "      <th>max</th>\n",
              "      <td>2020.000000</td>\n",
              "      <td>5.00000</td>\n",
              "    </tr>\n",
              "  </tbody>\n",
              "</table>\n",
              "</div>"
            ],
            "text/plain": [
              "               year         rank\n",
              "count  26955.000000  26955.00000\n",
              "mean    2015.243369      3.00000\n",
              "std        3.564683      1.41424\n",
              "min     2001.000000      1.00000\n",
              "25%     2013.000000      2.00000\n",
              "50%     2016.000000      3.00000\n",
              "75%     2018.000000      4.00000\n",
              "max     2020.000000      5.00000"
            ]
          },
          "execution_count": 12,
          "metadata": {},
          "output_type": "execute_result"
        }
      ],
      "source": [
        "df.describe()"
      ]
    },
    {
      "cell_type": "markdown",
      "id": "33de5673",
      "metadata": {
        "id": "33de5673"
      },
      "source": [
        "## Quantos anos únicos nós temos no dataset? Qual a distribuição dessa variável?"
      ]
    },
    {
      "cell_type": "markdown",
      "id": "962782c5",
      "metadata": {
        "id": "962782c5"
      },
      "source": [
        "*Contagem de valores unicos da coluna \"ano\"*"
      ]
    },
    {
      "cell_type": "code",
      "execution_count": 44,
      "id": "1306017f",
      "metadata": {
        "id": "1306017f",
        "colab": {
          "base_uri": "https://localhost:8080/"
        },
        "outputId": "f005efc8-50c9-45c9-e429-00c010b2ab84"
      },
      "outputs": [
        {
          "output_type": "execute_result",
          "data": {
            "text/plain": [
              "20"
            ]
          },
          "metadata": {},
          "execution_count": 44
        }
      ],
      "source": [
        "df['year'].nunique()"
      ]
    },
    {
      "cell_type": "code",
      "execution_count": 72,
      "id": "7254182f",
      "metadata": {
        "id": "7254182f",
        "outputId": "ae061f4c-ffb0-4879-cba8-2573813982b5",
        "colab": {
          "base_uri": "https://localhost:8080/",
          "height": 473
        }
      },
      "outputs": [
        {
          "output_type": "display_data",
          "data": {
            "text/plain": [
              "<Figure size 640x480 with 1 Axes>"
            ],
            "image/png": "[encoded data removed]"
          },
          "metadata": {}
        }
      ],
      "source": [
        "plt.hist(df['year'], bins=range(2001, 2022), rwidth=0.85)\n",
        "plt.xticks(range(2001, 2022), rotation=45)\n",
        "plt.title('Distribuição da Variável \"Ano\"')\n",
        "plt.show()"
      ]
    },
    {
      "cell_type": "markdown",
      "id": "6d09b303",
      "metadata": {
        "id": "6d09b303"
      },
      "source": [
        "## Quais os países que  aparecem no dataset? Quantos são?"
      ]
    },
    {
      "cell_type": "markdown",
      "id": "3c7fd1ab",
      "metadata": {
        "id": "3c7fd1ab"
      },
      "source": [
        "*Nome de todos os Países Unicos que aparecem + países agrupados como \"Global\"*"
      ]
    },
    {
      "cell_type": "code",
      "execution_count": null,
      "id": "8bed3dd1",
      "metadata": {
        "id": "8bed3dd1"
      },
      "outputs": [],
      "source": [
        "df['location'].unique()"
      ]
    },
    {
      "cell_type": "markdown",
      "id": "ebfb4837",
      "metadata": {
        "id": "ebfb4837"
      },
      "source": [
        "*Contagem de todos os Países Unicos que aparecem + \"Global\"*"
      ]
    },
    {
      "cell_type": "code",
      "execution_count": null,
      "id": "e73e8921",
      "metadata": {
        "id": "e73e8921"
      },
      "outputs": [],
      "source": [
        "df['location'].nunique()"
      ]
    },
    {
      "cell_type": "markdown",
      "id": "20a172cc",
      "metadata": {
        "id": "20a172cc"
      },
      "source": [
        "## Quantas Querys diferentes aparecem no DataFrame? Qual a maior posição possível que uma pesquisa pode aparecer no rank (isto é, a mínima colocação)?"
      ]
    },
    {
      "cell_type": "markdown",
      "id": "2813324f",
      "metadata": {
        "id": "2813324f"
      },
      "source": [
        "*Contagem total de todas as querys únicas presentes no arquivo*"
      ]
    },
    {
      "cell_type": "code",
      "execution_count": 45,
      "id": "fb01ba2c",
      "metadata": {
        "id": "fb01ba2c",
        "colab": {
          "base_uri": "https://localhost:8080/"
        },
        "outputId": "1f483627-7962-437b-ef54-8e7cd6bad4da"
      },
      "outputs": [
        {
          "output_type": "execute_result",
          "data": {
            "text/plain": [
              "18430"
            ]
          },
          "metadata": {},
          "execution_count": 45
        }
      ],
      "source": [
        "df['query'].nunique()"
      ]
    },
    {
      "cell_type": "markdown",
      "id": "7fde65d1",
      "metadata": {
        "id": "7fde65d1"
      },
      "source": [
        "*Contagem total de todas os possíveis posicionamentos de cada query presente no arquivo*"
      ]
    },
    {
      "cell_type": "code",
      "execution_count": 46,
      "id": "f708aba7",
      "metadata": {
        "id": "f708aba7",
        "colab": {
          "base_uri": "https://localhost:8080/"
        },
        "outputId": "564aea5e-80c6-4aa5-9082-42c661bf2680"
      },
      "outputs": [
        {
          "output_type": "execute_result",
          "data": {
            "text/plain": [
              "5"
            ]
          },
          "metadata": {},
          "execution_count": 46
        }
      ],
      "source": [
        "df['rank'].nunique()"
      ]
    },
    {
      "cell_type": "markdown",
      "id": "a00c7ee7",
      "metadata": {
        "id": "a00c7ee7"
      },
      "source": [
        "## Quantas Querys diferentes há em cada um dos anos do DataFrame? Quais os anos com a maior quantidade de querys?"
      ]
    },
    {
      "cell_type": "markdown",
      "id": "8b2dc472",
      "metadata": {
        "id": "8b2dc472"
      },
      "source": [
        "*Valores da coluna \"Ano\" agrupados juntamente com a contagem de valores únicos da coluna \"query\" ordenados de forma decrescente*"
      ]
    },
    {
      "cell_type": "code",
      "execution_count": 74,
      "id": "963c9838",
      "metadata": {
        "id": "963c9838",
        "outputId": "46e000c7-05c6-4602-fd85-0af1dd099424",
        "colab": {
          "base_uri": "https://localhost:8080/",
          "height": 493
        }
      },
      "outputs": [
        {
          "output_type": "display_data",
          "data": {
            "text/plain": [
              "<Figure size 640x480 with 1 Axes>"
            ],
            "image/png": "[encoded data removed]"
          },
          "metadata": {}
        }
      ],
      "source": [
        "df.groupby('year')['query'].nunique().sort_values(ascending=True).plot(kind=\"bar\")\n",
        "plt.title('Contagem de Querys Diferentes Por Ano')\n",
        "plt.show()"
      ]
    },
    {
      "cell_type": "markdown",
      "id": "f0d987da",
      "metadata": {
        "id": "f0d987da"
      },
      "source": [
        "## Quais são os 10 países com a maior quantidade de querys presentes no DataFrame? Quantas Querys exatamente cada um desses países tem?"
      ]
    },
    {
      "cell_type": "markdown",
      "id": "5aa22f7f",
      "metadata": {
        "id": "5aa22f7f"
      },
      "source": [
        "*Valores da coluna \"Location\" agrupados juntamente com os 10 valores com a maior contagem de valores únicos da coluna \"query\", ordenados de forma decrescente*"
      ]
    },
    {
      "cell_type": "code",
      "execution_count": 75,
      "id": "149ce125",
      "metadata": {
        "id": "149ce125",
        "colab": {
          "base_uri": "https://localhost:8080/",
          "height": 470
        },
        "outputId": "2ed336cf-f614-432b-d9bd-5274a43b20fd"
      },
      "outputs": [
        {
          "output_type": "execute_result",
          "data": {
            "text/plain": [
              "Text(0.5, 1.0, '10 Países com maior qtd de querys')"
            ]
          },
          "metadata": {},
          "execution_count": 75
        },
        {
          "output_type": "display_data",
          "data": {
            "text/plain": [
              "<Figure size 640x480 with 1 Axes>"
            ],
            "image/png": "[encoded data removed]"
          },
          "metadata": {}
        }
      ],
      "source": [
        "df.groupby('location')['query'].nunique().sort_values(ascending=True).tail(5).plot(kind='barh')\n",
        "plt.title('10 Países com maior qtd de querys')"
      ]
    },
    {
      "cell_type": "markdown",
      "id": "848b36e0",
      "metadata": {
        "id": "848b36e0"
      },
      "source": [
        "## Quantas Localizações diferentes aparecem nos 5 anos com maior frequência?"
      ]
    },
    {
      "cell_type": "markdown",
      "id": "d38d1b86",
      "metadata": {
        "id": "d38d1b86"
      },
      "source": [
        "*5 valores com maior frequencia da coluna \"Ano\"*"
      ]
    },
    {
      "cell_type": "code",
      "execution_count": 61,
      "id": "1125deb9",
      "metadata": {
        "id": "1125deb9",
        "colab": {
          "base_uri": "https://localhost:8080/"
        },
        "outputId": "6a2c6d4d-eb3e-4b8b-e28c-a3716ecab786"
      },
      "outputs": [
        {
          "output_type": "execute_result",
          "data": {
            "text/plain": [
              "2016    3040\n",
              "2020    2980\n",
              "2013    2890\n",
              "2015    2790\n",
              "2017    2610\n",
              "Name: year, dtype: int64"
            ]
          },
          "metadata": {},
          "execution_count": 61
        }
      ],
      "source": [
        "df['year'].value_counts().sort_values(ascending=False).head(5)"
      ]
    },
    {
      "cell_type": "code",
      "execution_count": 6,
      "id": "cb2995bd",
      "metadata": {
        "id": "cb2995bd",
        "outputId": "496c0d51-14c2-4919-e34c-38a88423922c",
        "colab": {
          "base_uri": "https://localhost:8080/",
          "height": 449
        }
      },
      "outputs": [
        {
          "output_type": "display_data",
          "data": {
            "text/plain": [
              "<Figure size 640x480 with 1 Axes>"
            ],
            "image/png": "[encoded data removed]"
          },
          "metadata": {}
        }
      ],
      "source": [
        "df_2016 = df[df.year == 2016]\n",
        "df_2020 = df[df.year == 2020]\n",
        "df_2013 = df[df.year == 2013]\n",
        "df_2015 = df[df.year == 2015]\n",
        "df_2017 = df[df.year == 2017]\n",
        "\n",
        "df_merged = pd.concat([df_2016, df_2020, df_2013, df_2015, df_2017])\n",
        "df_merged.groupby('year')['location'].nunique().sort_values(ascending=True).plot(kind='pie')\n",
        "\n",
        "plt.title('Qtd de Localizações diferentes\\n nos 5 anos de Maior Freq')\n",
        "plt.show()"
      ]
    },
    {
      "cell_type": "code",
      "execution_count": null,
      "id": "44871a4f",
      "metadata": {
        "id": "44871a4f"
      },
      "outputs": [],
      "source": []
    }
  ],
  "metadata": {
    "kernelspec": {
      "display_name": "Python 3 (ipykernel)",
      "language": "python",
      "name": "python3"
    },
    "language_info": {
      "codemirror_mode": {
        "name": "ipython",
        "version": 3
      },
      "file_extension": ".py",
      "mimetype": "text/x-python",
      "name": "python",
      "nbconvert_exporter": "python",
      "pygments_lexer": "ipython3",
      "version": "3.9.13"
    },
    "colab": {
      "provenance": []
    }
  },
  "nbformat": 4,
  "nbformat_minor": 5
}