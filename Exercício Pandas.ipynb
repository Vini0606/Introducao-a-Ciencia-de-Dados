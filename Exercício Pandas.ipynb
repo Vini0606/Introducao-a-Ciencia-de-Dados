{
  "nbformat": 4,
  "nbformat_minor": 0,
  "metadata": {
    "colab": {
      "provenance": []
    },
    "kernelspec": {
      "name": "python3",
      "display_name": "Python 3"
    },
    "language_info": {
      "name": "python"
    }
  },
  "cells": [
    {
      "cell_type": "markdown",
      "source": [
        "# **Atividade Prática Pandas I**\n",
        "\n",
        "Este notebook tem o objetivo de apresentar uma oportunidade de exercitar os primeiros da biblioteca **PANDAS**, ferramenta essencial de um cientista de dados.\n",
        "\n",
        "Utilize os dados a respeito dos municípios do Brasil para responder as questões. Os dados podem ser obtidos em http://blog.mds.gov.br/redesuas/wp-content/uploads/2018/06/Lista_Munic%C3%ADpios_com_IBGE_Brasil_Versao_CSV.csv .\n",
        "\n",
        "As questões devem ser respondidas na célula seguinte ao enunciado."
      ],
      "metadata": {
        "id": "eKNlnOHJ8jZ6"
      }
    },
    {
      "cell_type": "code",
      "source": [
        "import pandas as pd"
      ],
      "metadata": {
        "id": "p3nx4qe69RJe"
      },
      "execution_count": null,
      "outputs": []
    },
    {
      "cell_type": "code",
      "source": [
        "df = pd.read_csv('http://blog.mds.gov.br/redesuas/wp-content/uploads/2018/06/Lista_Munic%C3%ADpios_com_IBGE_Brasil_Versao_CSV.csv', sep=';', encoding = 'latin1')"
      ],
      "metadata": {
        "id": "411OSxUV9Zx5"
      },
      "execution_count": null,
      "outputs": []
    },
    {
      "cell_type": "code",
      "source": [
        "df.head()"
      ],
      "metadata": {
        "id": "JPnMJwfS-Sut",
        "colab": {
          "base_uri": "https://localhost:8080/",
          "height": 206
        },
        "outputId": "766c7f77-4d7e-42ea-8229-abfa806cb247"
      },
      "execution_count": null,
      "outputs": [
        {
          "output_type": "execute_result",
          "data": {
            "text/plain": [
              "              ConcatUF+Mun    IBGE    IBGE7  UF              Município  \\\n",
              "0  ROAlta Floresta D'oeste  110001  1100015  RO  Alta Floresta D´oeste   \n",
              "1              ROAriquemes  110002  1100023  RO              Ariquemes   \n",
              "2                 ROCabixi  110003  1100031  RO                 Cabixi   \n",
              "3                 ROCacoal  110004  1100049  RO                 Cacoal   \n",
              "4             ROCerejeiras  110005  1100056  RO             Cerejeiras   \n",
              "\n",
              "         Região  População 2010       Porte Capital  \\\n",
              "0  Região Norte         24392.0  Pequeno II     NaN   \n",
              "1  Região Norte         90353.0       Médio     NaN   \n",
              "2  Região Norte          6313.0   Pequeno I     NaN   \n",
              "3  Região Norte         78574.0       Médio     NaN   \n",
              "4  Região Norte         17029.0   Pequeno I     NaN   \n",
              "\n",
              "                                          Unnamed: 9  \n",
              "0  PROCV(A2;'[Lista de Municípios com IBGE - Bras...  \n",
              "1  PROCV(A2;'Lista de Municípios IBGE'!$A$2:$G$55...  \n",
              "2                                                NaN  \n",
              "3                                                NaN  \n",
              "4                                                NaN  "
            ],
            "text/html": [
              "\n",
              "  <div id=\"df-eab60726-b589-4d87-a70c-b03ff1e32100\" class=\"colab-df-container\">\n",
              "    <div>\n",
              "<style scoped>\n",
              "    .dataframe tbody tr th:only-of-type {\n",
              "        vertical-align: middle;\n",
              "    }\n",
              "\n",
              "    .dataframe tbody tr th {\n",
              "        vertical-align: top;\n",
              "    }\n",
              "\n",
              "    .dataframe thead th {\n",
              "        text-align: right;\n",
              "    }\n",
              "</style>\n",
              "<table border=\"1\" class=\"dataframe\">\n",
              "  <thead>\n",
              "    <tr style=\"text-align: right;\">\n",
              "      <th></th>\n",
              "      <th>ConcatUF+Mun</th>\n",
              "      <th>IBGE</th>\n",
              "      <th>IBGE7</th>\n",
              "      <th>UF</th>\n",
              "      <th>Município</th>\n",
              "      <th>Região</th>\n",
              "      <th>População 2010</th>\n",
              "      <th>Porte</th>\n",
              "      <th>Capital</th>\n",
              "      <th>Unnamed: 9</th>\n",
              "    </tr>\n",
              "  </thead>\n",
              "  <tbody>\n",
              "    <tr>\n",
              "      <th>0</th>\n",
              "      <td>ROAlta Floresta D'oeste</td>\n",
              "      <td>110001</td>\n",
              "      <td>1100015</td>\n",
              "      <td>RO</td>\n",
              "      <td>Alta Floresta D´oeste</td>\n",
              "      <td>Região Norte</td>\n",
              "      <td>24392.0</td>\n",
              "      <td>Pequeno II</td>\n",
              "      <td>NaN</td>\n",
              "      <td>PROCV(A2;'[Lista de Municípios com IBGE - Bras...</td>\n",
              "    </tr>\n",
              "    <tr>\n",
              "      <th>1</th>\n",
              "      <td>ROAriquemes</td>\n",
              "      <td>110002</td>\n",
              "      <td>1100023</td>\n",
              "      <td>RO</td>\n",
              "      <td>Ariquemes</td>\n",
              "      <td>Região Norte</td>\n",
              "      <td>90353.0</td>\n",
              "      <td>Médio</td>\n",
              "      <td>NaN</td>\n",
              "      <td>PROCV(A2;'Lista de Municípios IBGE'!$A$2:$G$55...</td>\n",
              "    </tr>\n",
              "    <tr>\n",
              "      <th>2</th>\n",
              "      <td>ROCabixi</td>\n",
              "      <td>110003</td>\n",
              "      <td>1100031</td>\n",
              "      <td>RO</td>\n",
              "      <td>Cabixi</td>\n",
              "      <td>Região Norte</td>\n",
              "      <td>6313.0</td>\n",
              "      <td>Pequeno I</td>\n",
              "      <td>NaN</td>\n",
              "      <td>NaN</td>\n",
              "    </tr>\n",
              "    <tr>\n",
              "      <th>3</th>\n",
              "      <td>ROCacoal</td>\n",
              "      <td>110004</td>\n",
              "      <td>1100049</td>\n",
              "      <td>RO</td>\n",
              "      <td>Cacoal</td>\n",
              "      <td>Região Norte</td>\n",
              "      <td>78574.0</td>\n",
              "      <td>Médio</td>\n",
              "      <td>NaN</td>\n",
              "      <td>NaN</td>\n",
              "    </tr>\n",
              "    <tr>\n",
              "      <th>4</th>\n",
              "      <td>ROCerejeiras</td>\n",
              "      <td>110005</td>\n",
              "      <td>1100056</td>\n",
              "      <td>RO</td>\n",
              "      <td>Cerejeiras</td>\n",
              "      <td>Região Norte</td>\n",
              "      <td>17029.0</td>\n",
              "      <td>Pequeno I</td>\n",
              "      <td>NaN</td>\n",
              "      <td>NaN</td>\n",
              "    </tr>\n",
              "  </tbody>\n",
              "</table>\n",
              "</div>\n",
              "    <div class=\"colab-df-buttons\">\n",
              "\n",
              "  <div class=\"colab-df-container\">\n",
              "    <button class=\"colab-df-convert\" onclick=\"convertToInteractive('df-eab60726-b589-4d87-a70c-b03ff1e32100')\"\n",
              "            title=\"Convert this dataframe to an interactive table.\"\n",
              "            style=\"display:none;\">\n",
              "\n",
              "  <svg xmlns=\"http://www.w3.org/2000/svg\" height=\"24px\" viewBox=\"0 -960 960 960\">\n",
              "    <path d=\"M120-120v-720h720v720H120Zm60-500h600v-160H180v160Zm220 220h160v-160H400v160Zm0 220h160v-160H400v160ZM180-400h160v-160H180v160Zm440 0h160v-160H620v160ZM180-180h160v-160H180v160Zm440 0h160v-160H620v160Z\"/>\n",
              "  </svg>\n",
              "    </button>\n",
              "\n",
              "  <style>\n",
              "    .colab-df-container {\n",
              "      display:flex;\n",
              "      gap: 12px;\n",
              "    }\n",
              "\n",
              "    .colab-df-convert {\n",
              "      background-color: #E8F0FE;\n",
              "      border: none;\n",
              "      border-radius: 50%;\n",
              "      cursor: pointer;\n",
              "      display: none;\n",
              "      fill: #1967D2;\n",
              "      height: 32px;\n",
              "      padding: 0 0 0 0;\n",
              "      width: 32px;\n",
              "    }\n",
              "\n",
              "    .colab-df-convert:hover {\n",
              "      background-color: #E2EBFA;\n",
              "      box-shadow: 0px 1px 2px rgba(60, 64, 67, 0.3), 0px 1px 3px 1px rgba(60, 64, 67, 0.15);\n",
              "      fill: #174EA6;\n",
              "    }\n",
              "\n",
              "    .colab-df-buttons div {\n",
              "      margin-bottom: 4px;\n",
              "    }\n",
              "\n",
              "    [theme=dark] .colab-df-convert {\n",
              "      background-color: #3B4455;\n",
              "      fill: #D2E3FC;\n",
              "    }\n",
              "\n",
              "    [theme=dark] .colab-df-convert:hover {\n",
              "      background-color: #434B5C;\n",
              "      box-shadow: 0px 1px 3px 1px rgba(0, 0, 0, 0.15);\n",
              "      filter: drop-shadow(0px 1px 2px rgba(0, 0, 0, 0.3));\n",
              "      fill: #FFFFFF;\n",
              "    }\n",
              "  </style>\n",
              "\n",
              "    <script>\n",
              "      const buttonEl =\n",
              "        document.querySelector('#df-eab60726-b589-4d87-a70c-b03ff1e32100 button.colab-df-convert');\n",
              "      buttonEl.style.display =\n",
              "        google.colab.kernel.accessAllowed ? 'block' : 'none';\n",
              "\n",
              "      async function convertToInteractive(key) {\n",
              "        const element = document.querySelector('#df-eab60726-b589-4d87-a70c-b03ff1e32100');\n",
              "        const dataTable =\n",
              "          await google.colab.kernel.invokeFunction('convertToInteractive',\n",
              "                                                    [key], {});\n",
              "        if (!dataTable) return;\n",
              "\n",
              "        const docLinkHtml = 'Like what you see? Visit the ' +\n",
              "          '<a target=\"_blank\" href=https://colab.research.google.com/notebooks/data_table.ipynb>data table notebook</a>'\n",
              "          + ' to learn more about interactive tables.';\n",
              "        element.innerHTML = '';\n",
              "        dataTable['output_type'] = 'display_data';\n",
              "        await google.colab.output.renderOutput(dataTable, element);\n",
              "        const docLink = document.createElement('div');\n",
              "        docLink.innerHTML = docLinkHtml;\n",
              "        element.appendChild(docLink);\n",
              "      }\n",
              "    </script>\n",
              "  </div>\n",
              "\n",
              "\n",
              "<div id=\"df-418e36f3-16ae-41c1-af20-5f8ec45cda4b\">\n",
              "  <button class=\"colab-df-quickchart\" onclick=\"quickchart('df-418e36f3-16ae-41c1-af20-5f8ec45cda4b')\"\n",
              "            title=\"Suggest charts.\"\n",
              "            style=\"display:none;\">\n",
              "\n",
              "<svg xmlns=\"http://www.w3.org/2000/svg\" height=\"24px\"viewBox=\"0 0 24 24\"\n",
              "     width=\"24px\">\n",
              "    <g>\n",
              "        <path d=\"M19 3H5c-1.1 0-2 .9-2 2v14c0 1.1.9 2 2 2h14c1.1 0 2-.9 2-2V5c0-1.1-.9-2-2-2zM9 17H7v-7h2v7zm4 0h-2V7h2v10zm4 0h-2v-4h2v4z\"/>\n",
              "    </g>\n",
              "</svg>\n",
              "  </button>\n",
              "\n",
              "<style>\n",
              "  .colab-df-quickchart {\n",
              "      --bg-color: #E8F0FE;\n",
              "      --fill-color: #1967D2;\n",
              "      --hover-bg-color: #E2EBFA;\n",
              "      --hover-fill-color: #174EA6;\n",
              "      --disabled-fill-color: #AAA;\n",
              "      --disabled-bg-color: #DDD;\n",
              "  }\n",
              "\n",
              "  [theme=dark] .colab-df-quickchart {\n",
              "      --bg-color: #3B4455;\n",
              "      --fill-color: #D2E3FC;\n",
              "      --hover-bg-color: #434B5C;\n",
              "      --hover-fill-color: #FFFFFF;\n",
              "      --disabled-bg-color: #3B4455;\n",
              "      --disabled-fill-color: #666;\n",
              "  }\n",
              "\n",
              "  .colab-df-quickchart {\n",
              "    background-color: var(--bg-color);\n",
              "    border: none;\n",
              "    border-radius: 50%;\n",
              "    cursor: pointer;\n",
              "    display: none;\n",
              "    fill: var(--fill-color);\n",
              "    height: 32px;\n",
              "    padding: 0;\n",
              "    width: 32px;\n",
              "  }\n",
              "\n",
              "  .colab-df-quickchart:hover {\n",
              "    background-color: var(--hover-bg-color);\n",
              "    box-shadow: 0 1px 2px rgba(60, 64, 67, 0.3), 0 1px 3px 1px rgba(60, 64, 67, 0.15);\n",
              "    fill: var(--button-hover-fill-color);\n",
              "  }\n",
              "\n",
              "  .colab-df-quickchart-complete:disabled,\n",
              "  .colab-df-quickchart-complete:disabled:hover {\n",
              "    background-color: var(--disabled-bg-color);\n",
              "    fill: var(--disabled-fill-color);\n",
              "    box-shadow: none;\n",
              "  }\n",
              "\n",
              "  .colab-df-spinner {\n",
              "    border: 2px solid var(--fill-color);\n",
              "    border-color: transparent;\n",
              "    border-bottom-color: var(--fill-color);\n",
              "    animation:\n",
              "      spin 1s steps(1) infinite;\n",
              "  }\n",
              "\n",
              "  @keyframes spin {\n",
              "    0% {\n",
              "      border-color: transparent;\n",
              "      border-bottom-color: var(--fill-color);\n",
              "      border-left-color: var(--fill-color);\n",
              "    }\n",
              "    20% {\n",
              "      border-color: transparent;\n",
              "      border-left-color: var(--fill-color);\n",
              "      border-top-color: var(--fill-color);\n",
              "    }\n",
              "    30% {\n",
              "      border-color: transparent;\n",
              "      border-left-color: var(--fill-color);\n",
              "      border-top-color: var(--fill-color);\n",
              "      border-right-color: var(--fill-color);\n",
              "    }\n",
              "    40% {\n",
              "      border-color: transparent;\n",
              "      border-right-color: var(--fill-color);\n",
              "      border-top-color: var(--fill-color);\n",
              "    }\n",
              "    60% {\n",
              "      border-color: transparent;\n",
              "      border-right-color: var(--fill-color);\n",
              "    }\n",
              "    80% {\n",
              "      border-color: transparent;\n",
              "      border-right-color: var(--fill-color);\n",
              "      border-bottom-color: var(--fill-color);\n",
              "    }\n",
              "    90% {\n",
              "      border-color: transparent;\n",
              "      border-bottom-color: var(--fill-color);\n",
              "    }\n",
              "  }\n",
              "</style>\n",
              "\n",
              "  <script>\n",
              "    async function quickchart(key) {\n",
              "      const quickchartButtonEl =\n",
              "        document.querySelector('#' + key + ' button');\n",
              "      quickchartButtonEl.disabled = true;  // To prevent multiple clicks.\n",
              "      quickchartButtonEl.classList.add('colab-df-spinner');\n",
              "      try {\n",
              "        const charts = await google.colab.kernel.invokeFunction(\n",
              "            'suggestCharts', [key], {});\n",
              "      } catch (error) {\n",
              "        console.error('Error during call to suggestCharts:', error);\n",
              "      }\n",
              "      quickchartButtonEl.classList.remove('colab-df-spinner');\n",
              "      quickchartButtonEl.classList.add('colab-df-quickchart-complete');\n",
              "    }\n",
              "    (() => {\n",
              "      let quickchartButtonEl =\n",
              "        document.querySelector('#df-418e36f3-16ae-41c1-af20-5f8ec45cda4b button');\n",
              "      quickchartButtonEl.style.display =\n",
              "        google.colab.kernel.accessAllowed ? 'block' : 'none';\n",
              "    })();\n",
              "  </script>\n",
              "</div>\n",
              "    </div>\n",
              "  </div>\n"
            ]
          },
          "metadata": {},
          "execution_count": 4
        }
      ]
    },
    {
      "cell_type": "code",
      "source": [
        "df.shape"
      ],
      "metadata": {
        "id": "H7LqBJ7Y-bW5",
        "colab": {
          "base_uri": "https://localhost:8080/"
        },
        "outputId": "40f2e74a-3aa3-4396-c154-a0cef1aaa86f"
      },
      "execution_count": null,
      "outputs": [
        {
          "output_type": "execute_result",
          "data": {
            "text/plain": [
              "(5570, 10)"
            ]
          },
          "metadata": {},
          "execution_count": 5
        }
      ]
    },
    {
      "cell_type": "code",
      "source": [
        "df.columns"
      ],
      "metadata": {
        "id": "p7nLBGjZ_Dzr",
        "colab": {
          "base_uri": "https://localhost:8080/"
        },
        "outputId": "8ff77d8b-b98a-4b55-a13c-1b4ef27be5f6"
      },
      "execution_count": null,
      "outputs": [
        {
          "output_type": "execute_result",
          "data": {
            "text/plain": [
              "Index(['ConcatUF+Mun', 'IBGE', 'IBGE7', 'UF', 'Município', 'Região',\n",
              "       'População 2010', 'Porte', 'Capital', 'Unnamed: 9'],\n",
              "      dtype='object')"
            ]
          },
          "metadata": {},
          "execution_count": 6
        }
      ]
    },
    {
      "cell_type": "code",
      "source": [
        "df.isna().sum()"
      ],
      "metadata": {
        "id": "upr3WFUJ_INl",
        "colab": {
          "base_uri": "https://localhost:8080/"
        },
        "outputId": "1c467f4d-b704-422a-fea9-8a50ae2d9350"
      },
      "execution_count": null,
      "outputs": [
        {
          "output_type": "execute_result",
          "data": {
            "text/plain": [
              "ConcatUF+Mun         0\n",
              "IBGE                 0\n",
              "IBGE7                0\n",
              "UF                   0\n",
              "Município            0\n",
              "Região               0\n",
              "População 2010       5\n",
              "Porte                0\n",
              "Capital           5543\n",
              "Unnamed: 9        5568\n",
              "dtype: int64"
            ]
          },
          "metadata": {},
          "execution_count": 8
        }
      ]
    },
    {
      "cell_type": "markdown",
      "source": [
        "##1. Quantos estados estão presentes na base?\n"
      ],
      "metadata": {
        "id": "qLXYlCGqAnnH"
      }
    },
    {
      "cell_type": "code",
      "source": [
        "df['UF'].nunique()\n"
      ],
      "metadata": {
        "id": "j6o2kv8SArOB",
        "colab": {
          "base_uri": "https://localhost:8080/"
        },
        "outputId": "ffe752c6-27b0-4ab8-cf33-0dd048ed5e15"
      },
      "execution_count": null,
      "outputs": [
        {
          "output_type": "execute_result",
          "data": {
            "text/plain": [
              "27"
            ]
          },
          "metadata": {},
          "execution_count": 8
        }
      ]
    },
    {
      "cell_type": "markdown",
      "source": [
        "##2. Listar os municípios de Alagoas.\n"
      ],
      "metadata": {
        "id": "__DQGJYRArno"
      }
    },
    {
      "cell_type": "code",
      "source": [
        "df[df['UF']=='AL']['Município'].values\n"
      ],
      "metadata": {
        "id": "1tkAQD1yAujT",
        "colab": {
          "base_uri": "https://localhost:8080/"
        },
        "outputId": "501d92fa-f90a-418b-d34a-dd87bb1b70ac"
      },
      "execution_count": null,
      "outputs": [
        {
          "output_type": "execute_result",
          "data": {
            "text/plain": [
              "array(['Água Branca', 'Anadia', 'Arapiraca', 'Atalaia',\n",
              "       'Barra de Santo Antônio', 'Barra de São Miguel', 'Batalha',\n",
              "       'Belém', 'Belo Monte', 'Boca da Mata', 'Branquinha', 'Cacimbinhas',\n",
              "       'Cajueiro', 'Campestre', 'Campo Alegre', 'Campo Grande', 'Canapi',\n",
              "       'Capela', 'Carneiros', 'Chã Preta', 'Coité do Nóia',\n",
              "       'Colônia Leopoldina', 'Coqueiro Seco', 'Coruripe', 'Craíbas',\n",
              "       'Delmiro Gouveia', 'Dois Riachos', 'Estrela de Alagoas',\n",
              "       'Feira Grande', 'Feliz Deserto', 'Flexeiras', 'Girau do Ponciano',\n",
              "       'Ibateguara', 'Igaci', 'Igreja Nova', 'Inhapi',\n",
              "       'Jacaré Dos Homens', 'Jacuípe', 'Japaratinga', 'Jaramataia',\n",
              "       'Jequiá da Praia', 'Joaquim Gomes', 'Jundiá', 'Junqueiro',\n",
              "       'Lagoa da Canoa', 'Limoeiro de Anadia', 'Maceió', 'Major Isidoro',\n",
              "       'Maragogi', 'Maravilha', 'Marechal Deodoro', 'Maribondo',\n",
              "       'Mar Vermelho', 'Mata Grande', 'Matriz de Camaragibe', 'Messias',\n",
              "       'Minador do Negrão', 'Monteirópolis', 'Murici', 'Novo Lino',\n",
              "       'Olho D´água Das Flores', 'Olho D´água do Casado',\n",
              "       'Olho D´água Grande', 'Olivença', 'Ouro Branco', 'Palestina',\n",
              "       'Palmeira Dos Índios', 'Pão de Açúcar', 'Pariconha', 'Paripueira',\n",
              "       'Passo de Camaragibe', 'Paulo Jacinto', 'Penedo', 'Piaçabuçu',\n",
              "       'Pilar', 'Pindoba', 'Piranhas', 'Poço Das Trincheiras',\n",
              "       'Porto Calvo', 'Porto de Pedras', 'Porto Real do Colégio',\n",
              "       'Quebrangulo', 'Rio Largo', 'Roteiro', 'Santa Luzia do Norte',\n",
              "       'Santana do Ipanema', 'Santana do Mundaú', 'São Brás',\n",
              "       'São José da Laje', 'São José da Tapera', 'São Luís do Quitunde',\n",
              "       'São Miguel Dos Campos', 'São Miguel Dos Milagres',\n",
              "       'São Sebastião', 'Satuba', 'Senador Rui Palmeira', 'Tanque D´arca',\n",
              "       'Taquarana', 'Teotônio Vilela', 'Traipu', 'União Dos Palmares',\n",
              "       'Viçosa'], dtype=object)"
            ]
          },
          "metadata": {},
          "execution_count": 9
        }
      ]
    },
    {
      "cell_type": "markdown",
      "source": [
        "## 3. Qual estado possui mais municípios?\n"
      ],
      "metadata": {
        "id": "znyeIoN8AvM0"
      }
    },
    {
      "cell_type": "code",
      "source": [
        "df.groupby('UF')['Município'].count().sort_values(ascending=False).head(1)\n"
      ],
      "metadata": {
        "id": "IuGmys_rAxtE",
        "colab": {
          "base_uri": "https://localhost:8080/"
        },
        "outputId": "7c97c894-f767-4e45-ab06-d74276ea6aad"
      },
      "execution_count": null,
      "outputs": [
        {
          "output_type": "execute_result",
          "data": {
            "text/plain": [
              "UF\n",
              "MG    853\n",
              "Name: Município, dtype: int64"
            ]
          },
          "metadata": {},
          "execution_count": 17
        }
      ]
    },
    {
      "cell_type": "markdown",
      "source": [
        "## 4. Qual a região possui mais municípios?"
      ],
      "metadata": {
        "id": "VkI47dkFAycF"
      }
    },
    {
      "cell_type": "code",
      "source": [
        "df.groupby('Região')['Município'].count().sort_values(ascending=False).head(1)"
      ],
      "metadata": {
        "id": "cs0wCWmiA2m5",
        "colab": {
          "base_uri": "https://localhost:8080/"
        },
        "outputId": "beaf9a98-fd56-40cc-aa1f-f326667eb67e"
      },
      "execution_count": null,
      "outputs": [
        {
          "output_type": "execute_result",
          "data": {
            "text/plain": [
              "Região\n",
              "Região Nordeste    1794\n",
              "Name: Município, dtype: int64"
            ]
          },
          "metadata": {},
          "execution_count": 19
        }
      ]
    },
    {
      "cell_type": "markdown",
      "source": [
        "## 5. Quais os 10 municípios com maior população?"
      ],
      "metadata": {
        "id": "UpOZ2o0-A3IK"
      }
    },
    {
      "cell_type": "code",
      "source": [
        "df[['Município','População 2010']].sort_values(by='População 2010', ascending=False).head(10)"
      ],
      "metadata": {
        "id": "zfv9CK0hA_aN",
        "colab": {
          "base_uri": "https://localhost:8080/",
          "height": 363
        },
        "outputId": "0701d6b7-0ac7-4a59-ad6d-82bdda3f1256"
      },
      "execution_count": null,
      "outputs": [
        {
          "output_type": "execute_result",
          "data": {
            "text/plain": [
              "           Município  População 2010\n",
              "3829       São Paulo      11253503.0\n",
              "3242  Rio de Janeiro       6320446.0\n",
              "2162        Salvador       2675656.0\n",
              "5569        Brasília       2570160.0\n",
              "949        Fortaleza       2452185.0\n",
              "2309  Belo Horizonte       2375151.0\n",
              "111           Manaus       1802014.0\n",
              "4005        Curitiba       1751907.0\n",
              "1596          Recife       1537704.0\n",
              "4931    Porto Alegre       1409351.0"
            ],
            "text/html": [
              "\n",
              "  <div id=\"df-1eee6e96-0eb0-4742-b22b-cdd8c779839b\" class=\"colab-df-container\">\n",
              "    <div>\n",
              "<style scoped>\n",
              "    .dataframe tbody tr th:only-of-type {\n",
              "        vertical-align: middle;\n",
              "    }\n",
              "\n",
              "    .dataframe tbody tr th {\n",
              "        vertical-align: top;\n",
              "    }\n",
              "\n",
              "    .dataframe thead th {\n",
              "        text-align: right;\n",
              "    }\n",
              "</style>\n",
              "<table border=\"1\" class=\"dataframe\">\n",
              "  <thead>\n",
              "    <tr style=\"text-align: right;\">\n",
              "      <th></th>\n",
              "      <th>Município</th>\n",
              "      <th>População 2010</th>\n",
              "    </tr>\n",
              "  </thead>\n",
              "  <tbody>\n",
              "    <tr>\n",
              "      <th>3829</th>\n",
              "      <td>São Paulo</td>\n",
              "      <td>11253503.0</td>\n",
              "    </tr>\n",
              "    <tr>\n",
              "      <th>3242</th>\n",
              "      <td>Rio de Janeiro</td>\n",
              "      <td>6320446.0</td>\n",
              "    </tr>\n",
              "    <tr>\n",
              "      <th>2162</th>\n",
              "      <td>Salvador</td>\n",
              "      <td>2675656.0</td>\n",
              "    </tr>\n",
              "    <tr>\n",
              "      <th>5569</th>\n",
              "      <td>Brasília</td>\n",
              "      <td>2570160.0</td>\n",
              "    </tr>\n",
              "    <tr>\n",
              "      <th>949</th>\n",
              "      <td>Fortaleza</td>\n",
              "      <td>2452185.0</td>\n",
              "    </tr>\n",
              "    <tr>\n",
              "      <th>2309</th>\n",
              "      <td>Belo Horizonte</td>\n",
              "      <td>2375151.0</td>\n",
              "    </tr>\n",
              "    <tr>\n",
              "      <th>111</th>\n",
              "      <td>Manaus</td>\n",
              "      <td>1802014.0</td>\n",
              "    </tr>\n",
              "    <tr>\n",
              "      <th>4005</th>\n",
              "      <td>Curitiba</td>\n",
              "      <td>1751907.0</td>\n",
              "    </tr>\n",
              "    <tr>\n",
              "      <th>1596</th>\n",
              "      <td>Recife</td>\n",
              "      <td>1537704.0</td>\n",
              "    </tr>\n",
              "    <tr>\n",
              "      <th>4931</th>\n",
              "      <td>Porto Alegre</td>\n",
              "      <td>1409351.0</td>\n",
              "    </tr>\n",
              "  </tbody>\n",
              "</table>\n",
              "</div>\n",
              "    <div class=\"colab-df-buttons\">\n",
              "\n",
              "  <div class=\"colab-df-container\">\n",
              "    <button class=\"colab-df-convert\" onclick=\"convertToInteractive('df-1eee6e96-0eb0-4742-b22b-cdd8c779839b')\"\n",
              "            title=\"Convert this dataframe to an interactive table.\"\n",
              "            style=\"display:none;\">\n",
              "\n",
              "  <svg xmlns=\"http://www.w3.org/2000/svg\" height=\"24px\" viewBox=\"0 -960 960 960\">\n",
              "    <path d=\"M120-120v-720h720v720H120Zm60-500h600v-160H180v160Zm220 220h160v-160H400v160Zm0 220h160v-160H400v160ZM180-400h160v-160H180v160Zm440 0h160v-160H620v160ZM180-180h160v-160H180v160Zm440 0h160v-160H620v160Z\"/>\n",
              "  </svg>\n",
              "    </button>\n",
              "\n",
              "  <style>\n",
              "    .colab-df-container {\n",
              "      display:flex;\n",
              "      gap: 12px;\n",
              "    }\n",
              "\n",
              "    .colab-df-convert {\n",
              "      background-color: #E8F0FE;\n",
              "      border: none;\n",
              "      border-radius: 50%;\n",
              "      cursor: pointer;\n",
              "      display: none;\n",
              "      fill: #1967D2;\n",
              "      height: 32px;\n",
              "      padding: 0 0 0 0;\n",
              "      width: 32px;\n",
              "    }\n",
              "\n",
              "    .colab-df-convert:hover {\n",
              "      background-color: #E2EBFA;\n",
              "      box-shadow: 0px 1px 2px rgba(60, 64, 67, 0.3), 0px 1px 3px 1px rgba(60, 64, 67, 0.15);\n",
              "      fill: #174EA6;\n",
              "    }\n",
              "\n",
              "    .colab-df-buttons div {\n",
              "      margin-bottom: 4px;\n",
              "    }\n",
              "\n",
              "    [theme=dark] .colab-df-convert {\n",
              "      background-color: #3B4455;\n",
              "      fill: #D2E3FC;\n",
              "    }\n",
              "\n",
              "    [theme=dark] .colab-df-convert:hover {\n",
              "      background-color: #434B5C;\n",
              "      box-shadow: 0px 1px 3px 1px rgba(0, 0, 0, 0.15);\n",
              "      filter: drop-shadow(0px 1px 2px rgba(0, 0, 0, 0.3));\n",
              "      fill: #FFFFFF;\n",
              "    }\n",
              "  </style>\n",
              "\n",
              "    <script>\n",
              "      const buttonEl =\n",
              "        document.querySelector('#df-1eee6e96-0eb0-4742-b22b-cdd8c779839b button.colab-df-convert');\n",
              "      buttonEl.style.display =\n",
              "        google.colab.kernel.accessAllowed ? 'block' : 'none';\n",
              "\n",
              "      async function convertToInteractive(key) {\n",
              "        const element = document.querySelector('#df-1eee6e96-0eb0-4742-b22b-cdd8c779839b');\n",
              "        const dataTable =\n",
              "          await google.colab.kernel.invokeFunction('convertToInteractive',\n",
              "                                                    [key], {});\n",
              "        if (!dataTable) return;\n",
              "\n",
              "        const docLinkHtml = 'Like what you see? Visit the ' +\n",
              "          '<a target=\"_blank\" href=https://colab.research.google.com/notebooks/data_table.ipynb>data table notebook</a>'\n",
              "          + ' to learn more about interactive tables.';\n",
              "        element.innerHTML = '';\n",
              "        dataTable['output_type'] = 'display_data';\n",
              "        await google.colab.output.renderOutput(dataTable, element);\n",
              "        const docLink = document.createElement('div');\n",
              "        docLink.innerHTML = docLinkHtml;\n",
              "        element.appendChild(docLink);\n",
              "      }\n",
              "    </script>\n",
              "  </div>\n",
              "\n",
              "\n",
              "<div id=\"df-5a1353e2-32e2-4d9e-9b7e-e41d0de4a8e9\">\n",
              "  <button class=\"colab-df-quickchart\" onclick=\"quickchart('df-5a1353e2-32e2-4d9e-9b7e-e41d0de4a8e9')\"\n",
              "            title=\"Suggest charts.\"\n",
              "            style=\"display:none;\">\n",
              "\n",
              "<svg xmlns=\"http://www.w3.org/2000/svg\" height=\"24px\"viewBox=\"0 0 24 24\"\n",
              "     width=\"24px\">\n",
              "    <g>\n",
              "        <path d=\"M19 3H5c-1.1 0-2 .9-2 2v14c0 1.1.9 2 2 2h14c1.1 0 2-.9 2-2V5c0-1.1-.9-2-2-2zM9 17H7v-7h2v7zm4 0h-2V7h2v10zm4 0h-2v-4h2v4z\"/>\n",
              "    </g>\n",
              "</svg>\n",
              "  </button>\n",
              "\n",
              "<style>\n",
              "  .colab-df-quickchart {\n",
              "      --bg-color: #E8F0FE;\n",
              "      --fill-color: #1967D2;\n",
              "      --hover-bg-color: #E2EBFA;\n",
              "      --hover-fill-color: #174EA6;\n",
              "      --disabled-fill-color: #AAA;\n",
              "      --disabled-bg-color: #DDD;\n",
              "  }\n",
              "\n",
              "  [theme=dark] .colab-df-quickchart {\n",
              "      --bg-color: #3B4455;\n",
              "      --fill-color: #D2E3FC;\n",
              "      --hover-bg-color: #434B5C;\n",
              "      --hover-fill-color: #FFFFFF;\n",
              "      --disabled-bg-color: #3B4455;\n",
              "      --disabled-fill-color: #666;\n",
              "  }\n",
              "\n",
              "  .colab-df-quickchart {\n",
              "    background-color: var(--bg-color);\n",
              "    border: none;\n",
              "    border-radius: 50%;\n",
              "    cursor: pointer;\n",
              "    display: none;\n",
              "    fill: var(--fill-color);\n",
              "    height: 32px;\n",
              "    padding: 0;\n",
              "    width: 32px;\n",
              "  }\n",
              "\n",
              "  .colab-df-quickchart:hover {\n",
              "    background-color: var(--hover-bg-color);\n",
              "    box-shadow: 0 1px 2px rgba(60, 64, 67, 0.3), 0 1px 3px 1px rgba(60, 64, 67, 0.15);\n",
              "    fill: var(--button-hover-fill-color);\n",
              "  }\n",
              "\n",
              "  .colab-df-quickchart-complete:disabled,\n",
              "  .colab-df-quickchart-complete:disabled:hover {\n",
              "    background-color: var(--disabled-bg-color);\n",
              "    fill: var(--disabled-fill-color);\n",
              "    box-shadow: none;\n",
              "  }\n",
              "\n",
              "  .colab-df-spinner {\n",
              "    border: 2px solid var(--fill-color);\n",
              "    border-color: transparent;\n",
              "    border-bottom-color: var(--fill-color);\n",
              "    animation:\n",
              "      spin 1s steps(1) infinite;\n",
              "  }\n",
              "\n",
              "  @keyframes spin {\n",
              "    0% {\n",
              "      border-color: transparent;\n",
              "      border-bottom-color: var(--fill-color);\n",
              "      border-left-color: var(--fill-color);\n",
              "    }\n",
              "    20% {\n",
              "      border-color: transparent;\n",
              "      border-left-color: var(--fill-color);\n",
              "      border-top-color: var(--fill-color);\n",
              "    }\n",
              "    30% {\n",
              "      border-color: transparent;\n",
              "      border-left-color: var(--fill-color);\n",
              "      border-top-color: var(--fill-color);\n",
              "      border-right-color: var(--fill-color);\n",
              "    }\n",
              "    40% {\n",
              "      border-color: transparent;\n",
              "      border-right-color: var(--fill-color);\n",
              "      border-top-color: var(--fill-color);\n",
              "    }\n",
              "    60% {\n",
              "      border-color: transparent;\n",
              "      border-right-color: var(--fill-color);\n",
              "    }\n",
              "    80% {\n",
              "      border-color: transparent;\n",
              "      border-right-color: var(--fill-color);\n",
              "      border-bottom-color: var(--fill-color);\n",
              "    }\n",
              "    90% {\n",
              "      border-color: transparent;\n",
              "      border-bottom-color: var(--fill-color);\n",
              "    }\n",
              "  }\n",
              "</style>\n",
              "\n",
              "  <script>\n",
              "    async function quickchart(key) {\n",
              "      const quickchartButtonEl =\n",
              "        document.querySelector('#' + key + ' button');\n",
              "      quickchartButtonEl.disabled = true;  // To prevent multiple clicks.\n",
              "      quickchartButtonEl.classList.add('colab-df-spinner');\n",
              "      try {\n",
              "        const charts = await google.colab.kernel.invokeFunction(\n",
              "            'suggestCharts', [key], {});\n",
              "      } catch (error) {\n",
              "        console.error('Error during call to suggestCharts:', error);\n",
              "      }\n",
              "      quickchartButtonEl.classList.remove('colab-df-spinner');\n",
              "      quickchartButtonEl.classList.add('colab-df-quickchart-complete');\n",
              "    }\n",
              "    (() => {\n",
              "      let quickchartButtonEl =\n",
              "        document.querySelector('#df-5a1353e2-32e2-4d9e-9b7e-e41d0de4a8e9 button');\n",
              "      quickchartButtonEl.style.display =\n",
              "        google.colab.kernel.accessAllowed ? 'block' : 'none';\n",
              "    })();\n",
              "  </script>\n",
              "</div>\n",
              "    </div>\n",
              "  </div>\n"
            ]
          },
          "metadata": {},
          "execution_count": 22
        }
      ]
    },
    {
      "cell_type": "markdown",
      "source": [
        "## 6. Quais os 10 municípios com maior população no estado da Bahia?"
      ],
      "metadata": {
        "id": "NwIpmFRFA_y-"
      }
    },
    {
      "cell_type": "code",
      "source": [
        "df_ba = df[df.UF=='BA']"
      ],
      "metadata": {
        "id": "88Y5My6DBCHz"
      },
      "execution_count": null,
      "outputs": []
    },
    {
      "cell_type": "code",
      "source": [
        "df_ba[['Município','População 2010']].sort_values(by='População 2010', ascending=False).head(10)"
      ],
      "metadata": {
        "id": "U9DHvMsNYeQ3",
        "colab": {
          "base_uri": "https://localhost:8080/",
          "height": 363
        },
        "outputId": "d240fcc9-6bd5-41cb-9178-a95342deae8f"
      },
      "execution_count": null,
      "outputs": [
        {
          "output_type": "execute_result",
          "data": {
            "text/plain": [
              "                 Município  População 2010\n",
              "2162              Salvador       2675656.0\n",
              "1957      Feira de Santana        556642.0\n",
              "2239  Vitória da Conquista        306866.0\n",
              "1897              Camaçari        242970.0\n",
              "2003               Itabuna        204667.0\n",
              "2044              Juazeiro        197965.0\n",
              "1990                Ilhéus        184236.0\n",
              "2057      Lauro de Freitas        163449.0\n",
              "2039                Jequié        151895.0\n",
              "1834            Alagoinhas        141949.0"
            ],
            "text/html": [
              "\n",
              "  <div id=\"df-14e7117e-e528-4654-be55-766faaeceb5f\" class=\"colab-df-container\">\n",
              "    <div>\n",
              "<style scoped>\n",
              "    .dataframe tbody tr th:only-of-type {\n",
              "        vertical-align: middle;\n",
              "    }\n",
              "\n",
              "    .dataframe tbody tr th {\n",
              "        vertical-align: top;\n",
              "    }\n",
              "\n",
              "    .dataframe thead th {\n",
              "        text-align: right;\n",
              "    }\n",
              "</style>\n",
              "<table border=\"1\" class=\"dataframe\">\n",
              "  <thead>\n",
              "    <tr style=\"text-align: right;\">\n",
              "      <th></th>\n",
              "      <th>Município</th>\n",
              "      <th>População 2010</th>\n",
              "    </tr>\n",
              "  </thead>\n",
              "  <tbody>\n",
              "    <tr>\n",
              "      <th>2162</th>\n",
              "      <td>Salvador</td>\n",
              "      <td>2675656.0</td>\n",
              "    </tr>\n",
              "    <tr>\n",
              "      <th>1957</th>\n",
              "      <td>Feira de Santana</td>\n",
              "      <td>556642.0</td>\n",
              "    </tr>\n",
              "    <tr>\n",
              "      <th>2239</th>\n",
              "      <td>Vitória da Conquista</td>\n",
              "      <td>306866.0</td>\n",
              "    </tr>\n",
              "    <tr>\n",
              "      <th>1897</th>\n",
              "      <td>Camaçari</td>\n",
              "      <td>242970.0</td>\n",
              "    </tr>\n",
              "    <tr>\n",
              "      <th>2003</th>\n",
              "      <td>Itabuna</td>\n",
              "      <td>204667.0</td>\n",
              "    </tr>\n",
              "    <tr>\n",
              "      <th>2044</th>\n",
              "      <td>Juazeiro</td>\n",
              "      <td>197965.0</td>\n",
              "    </tr>\n",
              "    <tr>\n",
              "      <th>1990</th>\n",
              "      <td>Ilhéus</td>\n",
              "      <td>184236.0</td>\n",
              "    </tr>\n",
              "    <tr>\n",
              "      <th>2057</th>\n",
              "      <td>Lauro de Freitas</td>\n",
              "      <td>163449.0</td>\n",
              "    </tr>\n",
              "    <tr>\n",
              "      <th>2039</th>\n",
              "      <td>Jequié</td>\n",
              "      <td>151895.0</td>\n",
              "    </tr>\n",
              "    <tr>\n",
              "      <th>1834</th>\n",
              "      <td>Alagoinhas</td>\n",
              "      <td>141949.0</td>\n",
              "    </tr>\n",
              "  </tbody>\n",
              "</table>\n",
              "</div>\n",
              "    <div class=\"colab-df-buttons\">\n",
              "\n",
              "  <div class=\"colab-df-container\">\n",
              "    <button class=\"colab-df-convert\" onclick=\"convertToInteractive('df-14e7117e-e528-4654-be55-766faaeceb5f')\"\n",
              "            title=\"Convert this dataframe to an interactive table.\"\n",
              "            style=\"display:none;\">\n",
              "\n",
              "  <svg xmlns=\"http://www.w3.org/2000/svg\" height=\"24px\" viewBox=\"0 -960 960 960\">\n",
              "    <path d=\"M120-120v-720h720v720H120Zm60-500h600v-160H180v160Zm220 220h160v-160H400v160Zm0 220h160v-160H400v160ZM180-400h160v-160H180v160Zm440 0h160v-160H620v160ZM180-180h160v-160H180v160Zm440 0h160v-160H620v160Z\"/>\n",
              "  </svg>\n",
              "    </button>\n",
              "\n",
              "  <style>\n",
              "    .colab-df-container {\n",
              "      display:flex;\n",
              "      gap: 12px;\n",
              "    }\n",
              "\n",
              "    .colab-df-convert {\n",
              "      background-color: #E8F0FE;\n",
              "      border: none;\n",
              "      border-radius: 50%;\n",
              "      cursor: pointer;\n",
              "      display: none;\n",
              "      fill: #1967D2;\n",
              "      height: 32px;\n",
              "      padding: 0 0 0 0;\n",
              "      width: 32px;\n",
              "    }\n",
              "\n",
              "    .colab-df-convert:hover {\n",
              "      background-color: #E2EBFA;\n",
              "      box-shadow: 0px 1px 2px rgba(60, 64, 67, 0.3), 0px 1px 3px 1px rgba(60, 64, 67, 0.15);\n",
              "      fill: #174EA6;\n",
              "    }\n",
              "\n",
              "    .colab-df-buttons div {\n",
              "      margin-bottom: 4px;\n",
              "    }\n",
              "\n",
              "    [theme=dark] .colab-df-convert {\n",
              "      background-color: #3B4455;\n",
              "      fill: #D2E3FC;\n",
              "    }\n",
              "\n",
              "    [theme=dark] .colab-df-convert:hover {\n",
              "      background-color: #434B5C;\n",
              "      box-shadow: 0px 1px 3px 1px rgba(0, 0, 0, 0.15);\n",
              "      filter: drop-shadow(0px 1px 2px rgba(0, 0, 0, 0.3));\n",
              "      fill: #FFFFFF;\n",
              "    }\n",
              "  </style>\n",
              "\n",
              "    <script>\n",
              "      const buttonEl =\n",
              "        document.querySelector('#df-14e7117e-e528-4654-be55-766faaeceb5f button.colab-df-convert');\n",
              "      buttonEl.style.display =\n",
              "        google.colab.kernel.accessAllowed ? 'block' : 'none';\n",
              "\n",
              "      async function convertToInteractive(key) {\n",
              "        const element = document.querySelector('#df-14e7117e-e528-4654-be55-766faaeceb5f');\n",
              "        const dataTable =\n",
              "          await google.colab.kernel.invokeFunction('convertToInteractive',\n",
              "                                                    [key], {});\n",
              "        if (!dataTable) return;\n",
              "\n",
              "        const docLinkHtml = 'Like what you see? Visit the ' +\n",
              "          '<a target=\"_blank\" href=https://colab.research.google.com/notebooks/data_table.ipynb>data table notebook</a>'\n",
              "          + ' to learn more about interactive tables.';\n",
              "        element.innerHTML = '';\n",
              "        dataTable['output_type'] = 'display_data';\n",
              "        await google.colab.output.renderOutput(dataTable, element);\n",
              "        const docLink = document.createElement('div');\n",
              "        docLink.innerHTML = docLinkHtml;\n",
              "        element.appendChild(docLink);\n",
              "      }\n",
              "    </script>\n",
              "  </div>\n",
              "\n",
              "\n",
              "<div id=\"df-93f96ceb-9d63-4008-aa23-f744e17eccdc\">\n",
              "  <button class=\"colab-df-quickchart\" onclick=\"quickchart('df-93f96ceb-9d63-4008-aa23-f744e17eccdc')\"\n",
              "            title=\"Suggest charts.\"\n",
              "            style=\"display:none;\">\n",
              "\n",
              "<svg xmlns=\"http://www.w3.org/2000/svg\" height=\"24px\"viewBox=\"0 0 24 24\"\n",
              "     width=\"24px\">\n",
              "    <g>\n",
              "        <path d=\"M19 3H5c-1.1 0-2 .9-2 2v14c0 1.1.9 2 2 2h14c1.1 0 2-.9 2-2V5c0-1.1-.9-2-2-2zM9 17H7v-7h2v7zm4 0h-2V7h2v10zm4 0h-2v-4h2v4z\"/>\n",
              "    </g>\n",
              "</svg>\n",
              "  </button>\n",
              "\n",
              "<style>\n",
              "  .colab-df-quickchart {\n",
              "      --bg-color: #E8F0FE;\n",
              "      --fill-color: #1967D2;\n",
              "      --hover-bg-color: #E2EBFA;\n",
              "      --hover-fill-color: #174EA6;\n",
              "      --disabled-fill-color: #AAA;\n",
              "      --disabled-bg-color: #DDD;\n",
              "  }\n",
              "\n",
              "  [theme=dark] .colab-df-quickchart {\n",
              "      --bg-color: #3B4455;\n",
              "      --fill-color: #D2E3FC;\n",
              "      --hover-bg-color: #434B5C;\n",
              "      --hover-fill-color: #FFFFFF;\n",
              "      --disabled-bg-color: #3B4455;\n",
              "      --disabled-fill-color: #666;\n",
              "  }\n",
              "\n",
              "  .colab-df-quickchart {\n",
              "    background-color: var(--bg-color);\n",
              "    border: none;\n",
              "    border-radius: 50%;\n",
              "    cursor: pointer;\n",
              "    display: none;\n",
              "    fill: var(--fill-color);\n",
              "    height: 32px;\n",
              "    padding: 0;\n",
              "    width: 32px;\n",
              "  }\n",
              "\n",
              "  .colab-df-quickchart:hover {\n",
              "    background-color: var(--hover-bg-color);\n",
              "    box-shadow: 0 1px 2px rgba(60, 64, 67, 0.3), 0 1px 3px 1px rgba(60, 64, 67, 0.15);\n",
              "    fill: var(--button-hover-fill-color);\n",
              "  }\n",
              "\n",
              "  .colab-df-quickchart-complete:disabled,\n",
              "  .colab-df-quickchart-complete:disabled:hover {\n",
              "    background-color: var(--disabled-bg-color);\n",
              "    fill: var(--disabled-fill-color);\n",
              "    box-shadow: none;\n",
              "  }\n",
              "\n",
              "  .colab-df-spinner {\n",
              "    border: 2px solid var(--fill-color);\n",
              "    border-color: transparent;\n",
              "    border-bottom-color: var(--fill-color);\n",
              "    animation:\n",
              "      spin 1s steps(1) infinite;\n",
              "  }\n",
              "\n",
              "  @keyframes spin {\n",
              "    0% {\n",
              "      border-color: transparent;\n",
              "      border-bottom-color: var(--fill-color);\n",
              "      border-left-color: var(--fill-color);\n",
              "    }\n",
              "    20% {\n",
              "      border-color: transparent;\n",
              "      border-left-color: var(--fill-color);\n",
              "      border-top-color: var(--fill-color);\n",
              "    }\n",
              "    30% {\n",
              "      border-color: transparent;\n",
              "      border-left-color: var(--fill-color);\n",
              "      border-top-color: var(--fill-color);\n",
              "      border-right-color: var(--fill-color);\n",
              "    }\n",
              "    40% {\n",
              "      border-color: transparent;\n",
              "      border-right-color: var(--fill-color);\n",
              "      border-top-color: var(--fill-color);\n",
              "    }\n",
              "    60% {\n",
              "      border-color: transparent;\n",
              "      border-right-color: var(--fill-color);\n",
              "    }\n",
              "    80% {\n",
              "      border-color: transparent;\n",
              "      border-right-color: var(--fill-color);\n",
              "      border-bottom-color: var(--fill-color);\n",
              "    }\n",
              "    90% {\n",
              "      border-color: transparent;\n",
              "      border-bottom-color: var(--fill-color);\n",
              "    }\n",
              "  }\n",
              "</style>\n",
              "\n",
              "  <script>\n",
              "    async function quickchart(key) {\n",
              "      const quickchartButtonEl =\n",
              "        document.querySelector('#' + key + ' button');\n",
              "      quickchartButtonEl.disabled = true;  // To prevent multiple clicks.\n",
              "      quickchartButtonEl.classList.add('colab-df-spinner');\n",
              "      try {\n",
              "        const charts = await google.colab.kernel.invokeFunction(\n",
              "            'suggestCharts', [key], {});\n",
              "      } catch (error) {\n",
              "        console.error('Error during call to suggestCharts:', error);\n",
              "      }\n",
              "      quickchartButtonEl.classList.remove('colab-df-spinner');\n",
              "      quickchartButtonEl.classList.add('colab-df-quickchart-complete');\n",
              "    }\n",
              "    (() => {\n",
              "      let quickchartButtonEl =\n",
              "        document.querySelector('#df-93f96ceb-9d63-4008-aa23-f744e17eccdc button');\n",
              "      quickchartButtonEl.style.display =\n",
              "        google.colab.kernel.accessAllowed ? 'block' : 'none';\n",
              "    })();\n",
              "  </script>\n",
              "</div>\n",
              "    </div>\n",
              "  </div>\n"
            ]
          },
          "metadata": {},
          "execution_count": 28
        }
      ]
    },
    {
      "cell_type": "markdown",
      "source": [
        "## 7. Qual o município com menor população no país?"
      ],
      "metadata": {
        "id": "KjaqfOSHBCgF"
      }
    },
    {
      "cell_type": "code",
      "source": [
        "df[['Município','População 2010']].sort_values(by='População 2010', ascending=True).head(1)"
      ],
      "metadata": {
        "id": "bp0MKt63BEw4",
        "colab": {
          "base_uri": "https://localhost:8080/",
          "height": 81
        },
        "outputId": "26c8cd29-19d8-4f49-c47d-008bcc77d328"
      },
      "execution_count": null,
      "outputs": [
        {
          "output_type": "execute_result",
          "data": {
            "text/plain": [
              "     Município  População 2010\n",
              "3348      Borá           805.0"
            ],
            "text/html": [
              "\n",
              "  <div id=\"df-8e18929c-7dd2-46d1-833c-60b7797aef9a\" class=\"colab-df-container\">\n",
              "    <div>\n",
              "<style scoped>\n",
              "    .dataframe tbody tr th:only-of-type {\n",
              "        vertical-align: middle;\n",
              "    }\n",
              "\n",
              "    .dataframe tbody tr th {\n",
              "        vertical-align: top;\n",
              "    }\n",
              "\n",
              "    .dataframe thead th {\n",
              "        text-align: right;\n",
              "    }\n",
              "</style>\n",
              "<table border=\"1\" class=\"dataframe\">\n",
              "  <thead>\n",
              "    <tr style=\"text-align: right;\">\n",
              "      <th></th>\n",
              "      <th>Município</th>\n",
              "      <th>População 2010</th>\n",
              "    </tr>\n",
              "  </thead>\n",
              "  <tbody>\n",
              "    <tr>\n",
              "      <th>3348</th>\n",
              "      <td>Borá</td>\n",
              "      <td>805.0</td>\n",
              "    </tr>\n",
              "  </tbody>\n",
              "</table>\n",
              "</div>\n",
              "    <div class=\"colab-df-buttons\">\n",
              "\n",
              "  <div class=\"colab-df-container\">\n",
              "    <button class=\"colab-df-convert\" onclick=\"convertToInteractive('df-8e18929c-7dd2-46d1-833c-60b7797aef9a')\"\n",
              "            title=\"Convert this dataframe to an interactive table.\"\n",
              "            style=\"display:none;\">\n",
              "\n",
              "  <svg xmlns=\"http://www.w3.org/2000/svg\" height=\"24px\" viewBox=\"0 -960 960 960\">\n",
              "    <path d=\"M120-120v-720h720v720H120Zm60-500h600v-160H180v160Zm220 220h160v-160H400v160Zm0 220h160v-160H400v160ZM180-400h160v-160H180v160Zm440 0h160v-160H620v160ZM180-180h160v-160H180v160Zm440 0h160v-160H620v160Z\"/>\n",
              "  </svg>\n",
              "    </button>\n",
              "\n",
              "  <style>\n",
              "    .colab-df-container {\n",
              "      display:flex;\n",
              "      gap: 12px;\n",
              "    }\n",
              "\n",
              "    .colab-df-convert {\n",
              "      background-color: #E8F0FE;\n",
              "      border: none;\n",
              "      border-radius: 50%;\n",
              "      cursor: pointer;\n",
              "      display: none;\n",
              "      fill: #1967D2;\n",
              "      height: 32px;\n",
              "      padding: 0 0 0 0;\n",
              "      width: 32px;\n",
              "    }\n",
              "\n",
              "    .colab-df-convert:hover {\n",
              "      background-color: #E2EBFA;\n",
              "      box-shadow: 0px 1px 2px rgba(60, 64, 67, 0.3), 0px 1px 3px 1px rgba(60, 64, 67, 0.15);\n",
              "      fill: #174EA6;\n",
              "    }\n",
              "\n",
              "    .colab-df-buttons div {\n",
              "      margin-bottom: 4px;\n",
              "    }\n",
              "\n",
              "    [theme=dark] .colab-df-convert {\n",
              "      background-color: #3B4455;\n",
              "      fill: #D2E3FC;\n",
              "    }\n",
              "\n",
              "    [theme=dark] .colab-df-convert:hover {\n",
              "      background-color: #434B5C;\n",
              "      box-shadow: 0px 1px 3px 1px rgba(0, 0, 0, 0.15);\n",
              "      filter: drop-shadow(0px 1px 2px rgba(0, 0, 0, 0.3));\n",
              "      fill: #FFFFFF;\n",
              "    }\n",
              "  </style>\n",
              "\n",
              "    <script>\n",
              "      const buttonEl =\n",
              "        document.querySelector('#df-8e18929c-7dd2-46d1-833c-60b7797aef9a button.colab-df-convert');\n",
              "      buttonEl.style.display =\n",
              "        google.colab.kernel.accessAllowed ? 'block' : 'none';\n",
              "\n",
              "      async function convertToInteractive(key) {\n",
              "        const element = document.querySelector('#df-8e18929c-7dd2-46d1-833c-60b7797aef9a');\n",
              "        const dataTable =\n",
              "          await google.colab.kernel.invokeFunction('convertToInteractive',\n",
              "                                                    [key], {});\n",
              "        if (!dataTable) return;\n",
              "\n",
              "        const docLinkHtml = 'Like what you see? Visit the ' +\n",
              "          '<a target=\"_blank\" href=https://colab.research.google.com/notebooks/data_table.ipynb>data table notebook</a>'\n",
              "          + ' to learn more about interactive tables.';\n",
              "        element.innerHTML = '';\n",
              "        dataTable['output_type'] = 'display_data';\n",
              "        await google.colab.output.renderOutput(dataTable, element);\n",
              "        const docLink = document.createElement('div');\n",
              "        docLink.innerHTML = docLinkHtml;\n",
              "        element.appendChild(docLink);\n",
              "      }\n",
              "    </script>\n",
              "  </div>\n",
              "\n",
              "    </div>\n",
              "  </div>\n"
            ]
          },
          "metadata": {},
          "execution_count": 30
        }
      ]
    },
    {
      "cell_type": "markdown",
      "source": [
        "##8. Qual o valor médio de população por estado?"
      ],
      "metadata": {
        "id": "p3SvawQiBFS5"
      }
    },
    {
      "cell_type": "code",
      "source": [
        "df.groupby('UF')['População 2010'].mean().sort_values()"
      ],
      "metadata": {
        "id": "zjRKOJsPBIRq",
        "colab": {
          "base_uri": "https://localhost:8080/"
        },
        "outputId": "8fca2331-bcb0-4e99-b309-be040baa2c8c"
      },
      "execution_count": null,
      "outputs": [
        {
          "output_type": "execute_result",
          "data": {
            "text/plain": [
              "UF\n",
              "TO    9.952842e+03\n",
              "PI    1.392125e+04\n",
              "PB    1.689026e+04\n",
              "RN    1.897022e+04\n",
              "SC    2.132572e+04\n",
              "MT    2.152569e+04\n",
              "RS    2.156034e+04\n",
              "MG    2.297460e+04\n",
              "GO    2.440564e+04\n",
              "PR    2.617676e+04\n",
              "SE    2.757356e+04\n",
              "RR    3.003193e+04\n",
              "RO    3.004633e+04\n",
              "MA    3.029857e+04\n",
              "AL    3.059308e+04\n",
              "MS    3.139774e+04\n",
              "AC    3.334359e+04\n",
              "BA    3.361368e+04\n",
              "AP    4.184538e+04\n",
              "ES    4.506349e+04\n",
              "CE    4.593685e+04\n",
              "PE    4.754837e+04\n",
              "PA    5.301434e+04\n",
              "AM    5.619331e+04\n",
              "SP    6.397240e+04\n",
              "RJ    1.738036e+05\n",
              "DF    2.570160e+06\n",
              "Name: População 2010, dtype: float64"
            ]
          },
          "metadata": {},
          "execution_count": 31
        }
      ]
    },
    {
      "cell_type": "markdown",
      "source": [
        "## 9. Quais são os valores possíveis na coluna \"Porte\"?"
      ],
      "metadata": {
        "id": "K8aBQHkQBIqr"
      }
    },
    {
      "cell_type": "code",
      "source": [
        "df['Porte'].unique()"
      ],
      "metadata": {
        "id": "o-OH-j_hBLEj",
        "colab": {
          "base_uri": "https://localhost:8080/"
        },
        "outputId": "1d4a7c77-0134-4a22-97eb-9a56ebf326fe"
      },
      "execution_count": null,
      "outputs": [
        {
          "output_type": "execute_result",
          "data": {
            "text/plain": [
              "array(['Pequeno II', 'Médio', 'Pequeno I', 'Grande', 'Metrópole'],\n",
              "      dtype=object)"
            ]
          },
          "metadata": {},
          "execution_count": 26
        }
      ]
    },
    {
      "cell_type": "markdown",
      "source": [
        "## 10. Qual a média de população por cada tipo de porte de município?"
      ],
      "metadata": {
        "id": "swqgSk18BLdE"
      }
    },
    {
      "cell_type": "code",
      "source": [
        "df.groupby('Porte')['População 2010'].mean()"
      ],
      "metadata": {
        "id": "qd41VoLHBNvF",
        "colab": {
          "base_uri": "https://localhost:8080/"
        },
        "outputId": "d174ef26-932c-48d5-8874-56212ed282e4"
      },
      "execution_count": null,
      "outputs": [
        {
          "output_type": "execute_result",
          "data": {
            "text/plain": [
              "Porte\n",
              "Grande        2.343752e+05\n",
              "Metrópole     2.476052e+06\n",
              "Médio         6.865909e+04\n",
              "Pequeno I     8.344468e+03\n",
              "Pequeno II    3.005242e+04\n",
              "Name: População 2010, dtype: float64"
            ]
          },
          "metadata": {},
          "execution_count": 25
        }
      ]
    },
    {
      "cell_type": "markdown",
      "source": [
        "## 11. O que quer informar a coluna \"Capital\"?"
      ],
      "metadata": {
        "id": "CdhjXYuuBOCW"
      }
    },
    {
      "cell_type": "code",
      "source": [
        "df['Capital'].unique()"
      ],
      "metadata": {
        "id": "-Xld5w6oBQBP",
        "colab": {
          "base_uri": "https://localhost:8080/"
        },
        "outputId": "ff09e46e-209a-4d39-ee82-46574482a2f9"
      },
      "execution_count": null,
      "outputs": [
        {
          "output_type": "execute_result",
          "data": {
            "text/plain": [
              "array([nan, 'Capital'], dtype=object)"
            ]
          },
          "metadata": {},
          "execution_count": 23
        }
      ]
    },
    {
      "cell_type": "markdown",
      "source": [
        "Ela deseja informar se a cidade é ou não é a capital do estado ao qual pertence"
      ],
      "metadata": {
        "id": "ZOn4h-a6dE0j"
      }
    },
    {
      "cell_type": "markdown",
      "source": [
        "##12. Qual a distribuição de porte de municípios na região Sul? E na região Norte?"
      ],
      "metadata": {
        "id": "pJNx4cKQBSkr"
      }
    },
    {
      "cell_type": "markdown",
      "source": [
        "Região Sul"
      ],
      "metadata": {
        "id": "bTX_P9p8fw2k"
      }
    },
    {
      "cell_type": "code",
      "source": [
        "df_sul = df[df.Região=='Região Sul']"
      ],
      "metadata": {
        "id": "7RgBWMwEBTa5"
      },
      "execution_count": null,
      "outputs": []
    },
    {
      "cell_type": "code",
      "source": [
        "df_sul.groupby('Porte')['Município'].count()"
      ],
      "metadata": {
        "id": "lsqDrOUleAvX",
        "colab": {
          "base_uri": "https://localhost:8080/"
        },
        "outputId": "ac3864e0-5282-4d36-f8a0-b506865d022b"
      },
      "execution_count": null,
      "outputs": [
        {
          "output_type": "execute_result",
          "data": {
            "text/plain": [
              "Porte\n",
              "Grande         46\n",
              "Metrópole       2\n",
              "Médio          53\n",
              "Pequeno I     943\n",
              "Pequeno II    147\n",
              "Name: Município, dtype: int64"
            ]
          },
          "metadata": {},
          "execution_count": 34
        }
      ]
    },
    {
      "cell_type": "markdown",
      "source": [
        "Região Norte"
      ],
      "metadata": {
        "id": "IYfTpXfUf1Nx"
      }
    },
    {
      "cell_type": "code",
      "source": [
        "df_norte = df[df.Região=='Região Norte']"
      ],
      "metadata": {
        "id": "adIJdnUThoTU"
      },
      "execution_count": null,
      "outputs": []
    },
    {
      "cell_type": "code",
      "source": [
        "df_norte.groupby('Porte')['Município'].count()"
      ],
      "metadata": {
        "id": "f6G6aMnrhyaD",
        "colab": {
          "base_uri": "https://localhost:8080/"
        },
        "outputId": "1d120d06-0cea-4af9-c4cc-4ccecfab4d0d"
      },
      "execution_count": null,
      "outputs": [
        {
          "output_type": "execute_result",
          "data": {
            "text/plain": [
              "Porte\n",
              "Grande         18\n",
              "Metrópole       2\n",
              "Médio          43\n",
              "Pequeno I     276\n",
              "Pequeno II    111\n",
              "Name: Município, dtype: int64"
            ]
          },
          "metadata": {},
          "execution_count": 36
        }
      ]
    }
  ]
}